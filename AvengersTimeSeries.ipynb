{
 "cells": [
  {
   "cell_type": "code",
   "execution_count": 2,
   "metadata": {},
   "outputs": [],
   "source": [
    "import requests\n",
    "res = requests.get('https://www.boxofficemojo.com/movies/?page=daily&view=chart&id=marvel2019.htm')"
   ]
  },
  {
   "cell_type": "code",
   "execution_count": 3,
   "metadata": {},
   "outputs": [
    {
     "data": {
      "text/plain": [
       "<Response [200]>"
      ]
     },
     "execution_count": 3,
     "metadata": {},
     "output_type": "execute_result"
    }
   ],
   "source": [
    "res"
   ]
  },
  {
   "cell_type": "code",
   "execution_count": 4,
   "metadata": {},
   "outputs": [],
   "source": [
    "from bs4 import BeautifulSoup\n",
    "#read out html test\n",
    "soup = BeautifulSoup(res.text, 'html5lib')"
   ]
  },
  {
   "cell_type": "code",
   "execution_count": null,
   "metadata": {},
   "outputs": [],
   "source": [
    "from datetime import datetime  \n",
    "from datetime import timedelta"
   ]
  },
  {
   "cell_type": "code",
   "execution_count": 5,
   "metadata": {},
   "outputs": [],
   "source": [
    "import pandas as pd\n",
    "#use soup.select_one('table.chart-wide') to select table content only\n",
    "#use pd.read_html to read the html into pandas (make the content readable)\n",
    "dfs = pd.read_html(soup.select_one('table.chart-wide').prettify())"
   ]
  },
  {
   "cell_type": "code",
   "execution_count": 314,
   "metadata": {},
   "outputs": [
    {
     "data": {
      "text/html": [
       "<div>\n",
       "<style scoped>\n",
       "    .dataframe tbody tr th:only-of-type {\n",
       "        vertical-align: middle;\n",
       "    }\n",
       "\n",
       "    .dataframe tbody tr th {\n",
       "        vertical-align: top;\n",
       "    }\n",
       "\n",
       "    .dataframe thead th {\n",
       "        text-align: right;\n",
       "    }\n",
       "</style>\n",
       "<table border=\"1\" class=\"dataframe\">\n",
       "  <thead>\n",
       "    <tr style=\"text-align: right;\">\n",
       "      <th></th>\n",
       "      <th>Day</th>\n",
       "      <th>Date</th>\n",
       "      <th>Rank</th>\n",
       "      <th>Gross</th>\n",
       "      <th>% +/- YD  /  LW*</th>\n",
       "      <th>% +/- YD  /  LW*</th>\n",
       "      <th>Theaters  /  Avg</th>\n",
       "      <th>Theaters  /  Avg</th>\n",
       "      <th>Gross-to-Date</th>\n",
       "      <th>Day #</th>\n",
       "    </tr>\n",
       "  </thead>\n",
       "  <tbody>\n",
       "    <tr>\n",
       "      <th>0</th>\n",
       "      <td>Day</td>\n",
       "      <td>Date</td>\n",
       "      <td>Rank</td>\n",
       "      <td>Gross</td>\n",
       "      <td>% +/- YD  /  LW*</td>\n",
       "      <td>Theaters  /  Avg</td>\n",
       "      <td>Gross-to-Date</td>\n",
       "      <td>Day #</td>\n",
       "      <td>NaN</td>\n",
       "      <td>NaN</td>\n",
       "    </tr>\n",
       "    <tr>\n",
       "      <th>1</th>\n",
       "      <td>Fri</td>\n",
       "      <td>Apr. 26, 2019</td>\n",
       "      <td>1</td>\n",
       "      <td>$157,461,641</td>\n",
       "      <td>-</td>\n",
       "      <td>-</td>\n",
       "      <td>4662</td>\n",
       "      <td>$33,776</td>\n",
       "      <td>$157,461,641</td>\n",
       "      <td>1.0</td>\n",
       "    </tr>\n",
       "    <tr>\n",
       "      <th>2</th>\n",
       "      <td>Sat</td>\n",
       "      <td>Apr. 27, 2019</td>\n",
       "      <td>1</td>\n",
       "      <td>$109,264,122</td>\n",
       "      <td>-30.6%</td>\n",
       "      <td>-</td>\n",
       "      <td>4662</td>\n",
       "      <td>$23,437</td>\n",
       "      <td>$266,725,763</td>\n",
       "      <td>2.0</td>\n",
       "    </tr>\n",
       "    <tr>\n",
       "      <th>3</th>\n",
       "      <td>Sun</td>\n",
       "      <td>Apr. 28, 2019</td>\n",
       "      <td>1</td>\n",
       "      <td>$90,389,244</td>\n",
       "      <td>-17.3%</td>\n",
       "      <td>-</td>\n",
       "      <td>4662</td>\n",
       "      <td>$19,389</td>\n",
       "      <td>$357,115,007</td>\n",
       "      <td>3.0</td>\n",
       "    </tr>\n",
       "    <tr>\n",
       "      <th>4</th>\n",
       "      <td>Mon</td>\n",
       "      <td>Apr. 29, 2019</td>\n",
       "      <td>1</td>\n",
       "      <td>$36,874,439</td>\n",
       "      <td>-59.2%</td>\n",
       "      <td>-</td>\n",
       "      <td>4662</td>\n",
       "      <td>$7,910</td>\n",
       "      <td>$393,989,446</td>\n",
       "      <td>4.0</td>\n",
       "    </tr>\n",
       "  </tbody>\n",
       "</table>\n",
       "</div>"
      ],
      "text/plain": [
       "0  Day           Date  Rank         Gross  % +/- YD  /  LW*  % +/- YD  /  LW*  \\\n",
       "0  Day           Date  Rank         Gross  % +/- YD  /  LW*  Theaters  /  Avg   \n",
       "1  Fri  Apr. 26, 2019     1  $157,461,641                 -                 -   \n",
       "2  Sat  Apr. 27, 2019     1  $109,264,122            -30.6%                 -   \n",
       "3  Sun  Apr. 28, 2019     1   $90,389,244            -17.3%                 -   \n",
       "4  Mon  Apr. 29, 2019     1   $36,874,439            -59.2%                 -   \n",
       "\n",
       "0 Theaters  /  Avg Theaters  /  Avg Gross-to-Date  Day #  \n",
       "0    Gross-to-Date            Day #           NaN    NaN  \n",
       "1             4662          $33,776  $157,461,641    1.0  \n",
       "2             4662          $23,437  $266,725,763    2.0  \n",
       "3             4662          $19,389  $357,115,007    3.0  \n",
       "4             4662           $7,910  $393,989,446    4.0  "
      ]
     },
     "execution_count": 314,
     "metadata": {},
     "output_type": "execute_result"
    }
   ],
   "source": [
    "#take a look of the data\n",
    "dfs[0].head()"
   ]
  },
  {
   "cell_type": "code",
   "execution_count": 7,
   "metadata": {},
   "outputs": [
    {
     "name": "stderr",
     "output_type": "stream",
     "text": [
      "/Users/jaehuang/anaconda3/lib/python3.6/site-packages/ipykernel_launcher.py:2: SettingWithCopyWarning: \n",
      "A value is trying to be set on a copy of a slice from a DataFrame\n",
      "\n",
      "See the caveats in the documentation: http://pandas.pydata.org/pandas-docs/stable/indexing.html#indexing-view-versus-copy\n",
      "  \n",
      "/Users/jaehuang/anaconda3/lib/python3.6/site-packages/pandas/core/series.py:789: SettingWithCopyWarning: \n",
      "A value is trying to be set on a copy of a slice from a DataFrame\n",
      "\n",
      "See the caveats in the documentation: http://pandas.pydata.org/pandas-docs/stable/indexing.html#indexing-view-versus-copy\n",
      "  self._set_with(key, value)\n",
      "/Users/jaehuang/anaconda3/lib/python3.6/site-packages/ipykernel_launcher.py:3: SettingWithCopyWarning: \n",
      "A value is trying to be set on a copy of a slice from a DataFrame\n",
      "\n",
      "See the caveats in the documentation: http://pandas.pydata.org/pandas-docs/stable/indexing.html#indexing-view-versus-copy\n",
      "  This is separate from the ipykernel package so we can avoid doing imports until\n"
     ]
    },
    {
     "data": {
      "text/plain": [
       "0                 Day\n",
       "1                Date\n",
       "2                Rank\n",
       "3               Gross\n",
       "4    % +/- YD  /  LW*\n",
       "5    % +/- YD  /  LW*\n",
       "6    Theaters  /  Avg\n",
       "7    Theaters  /  Avg\n",
       "8       Gross-to-Date\n",
       "9               Day #\n",
       "Name: 0, dtype: object"
      ]
     },
     "execution_count": 7,
     "metadata": {},
     "output_type": "execute_result"
    }
   ],
   "source": [
    "col = dfs[0].iloc[0]\n",
    "col[5:] = col[4:9]\n",
    "col[7:] = col[6:9]\n",
    "col"
   ]
  },
  {
   "cell_type": "code",
   "execution_count": 46,
   "metadata": {},
   "outputs": [
    {
     "data": {
      "text/html": [
       "<div>\n",
       "<style scoped>\n",
       "    .dataframe tbody tr th:only-of-type {\n",
       "        vertical-align: middle;\n",
       "    }\n",
       "\n",
       "    .dataframe tbody tr th {\n",
       "        vertical-align: top;\n",
       "    }\n",
       "\n",
       "    .dataframe thead th {\n",
       "        text-align: right;\n",
       "    }\n",
       "</style>\n",
       "<table border=\"1\" class=\"dataframe\">\n",
       "  <thead>\n",
       "    <tr style=\"text-align: right;\">\n",
       "      <th></th>\n",
       "      <th>Day</th>\n",
       "      <th>Date</th>\n",
       "      <th>Rank</th>\n",
       "      <th>Gross</th>\n",
       "      <th>% +/- YD  /  LW*</th>\n",
       "      <th>% +/- YD  /  LW*</th>\n",
       "      <th>Theaters  /  Avg</th>\n",
       "      <th>Theaters  /  Avg</th>\n",
       "      <th>Gross-to-Date</th>\n",
       "      <th>Day #</th>\n",
       "    </tr>\n",
       "  </thead>\n",
       "  <tbody>\n",
       "    <tr>\n",
       "      <th>1</th>\n",
       "      <td>Fri</td>\n",
       "      <td>Apr. 26, 2019</td>\n",
       "      <td>1</td>\n",
       "      <td>$157,461,641</td>\n",
       "      <td>-</td>\n",
       "      <td>-</td>\n",
       "      <td>4662</td>\n",
       "      <td>$33,776</td>\n",
       "      <td>$157,461,641</td>\n",
       "      <td>1.0</td>\n",
       "    </tr>\n",
       "    <tr>\n",
       "      <th>2</th>\n",
       "      <td>Sat</td>\n",
       "      <td>Apr. 27, 2019</td>\n",
       "      <td>1</td>\n",
       "      <td>$109,264,122</td>\n",
       "      <td>-30.6%</td>\n",
       "      <td>-</td>\n",
       "      <td>4662</td>\n",
       "      <td>$23,437</td>\n",
       "      <td>$266,725,763</td>\n",
       "      <td>2.0</td>\n",
       "    </tr>\n",
       "    <tr>\n",
       "      <th>3</th>\n",
       "      <td>Sun</td>\n",
       "      <td>Apr. 28, 2019</td>\n",
       "      <td>1</td>\n",
       "      <td>$90,389,244</td>\n",
       "      <td>-17.3%</td>\n",
       "      <td>-</td>\n",
       "      <td>4662</td>\n",
       "      <td>$19,389</td>\n",
       "      <td>$357,115,007</td>\n",
       "      <td>3.0</td>\n",
       "    </tr>\n",
       "    <tr>\n",
       "      <th>4</th>\n",
       "      <td>Mon</td>\n",
       "      <td>Apr. 29, 2019</td>\n",
       "      <td>1</td>\n",
       "      <td>$36,874,439</td>\n",
       "      <td>-59.2%</td>\n",
       "      <td>-</td>\n",
       "      <td>4662</td>\n",
       "      <td>$7,910</td>\n",
       "      <td>$393,989,446</td>\n",
       "      <td>4.0</td>\n",
       "    </tr>\n",
       "    <tr>\n",
       "      <th>5</th>\n",
       "      <td>Tue</td>\n",
       "      <td>Apr. 30, 2019</td>\n",
       "      <td>1</td>\n",
       "      <td>$33,110,349</td>\n",
       "      <td>-10.2%</td>\n",
       "      <td>-</td>\n",
       "      <td>4662</td>\n",
       "      <td>$7,102</td>\n",
       "      <td>$427,099,795</td>\n",
       "      <td>5.0</td>\n",
       "    </tr>\n",
       "  </tbody>\n",
       "</table>\n",
       "</div>"
      ],
      "text/plain": [
       "0  Day           Date Rank         Gross % +/- YD  /  LW* % +/- YD  /  LW*  \\\n",
       "1  Fri  Apr. 26, 2019    1  $157,461,641                -                -   \n",
       "2  Sat  Apr. 27, 2019    1  $109,264,122           -30.6%                -   \n",
       "3  Sun  Apr. 28, 2019    1   $90,389,244           -17.3%                -   \n",
       "4  Mon  Apr. 29, 2019    1   $36,874,439           -59.2%                -   \n",
       "5  Tue  Apr. 30, 2019    1   $33,110,349           -10.2%                -   \n",
       "\n",
       "0 Theaters  /  Avg Theaters  /  Avg Gross-to-Date  Day #  \n",
       "1             4662          $33,776  $157,461,641    1.0  \n",
       "2             4662          $23,437  $266,725,763    2.0  \n",
       "3             4662          $19,389  $357,115,007    3.0  \n",
       "4             4662           $7,910  $393,989,446    4.0  \n",
       "5             4662           $7,102  $427,099,795    5.0  "
      ]
     },
     "execution_count": 46,
     "metadata": {},
     "output_type": "execute_result"
    }
   ],
   "source": [
    "df = dfs[0]\n",
    "df.columns = col\n",
    "df = df.drop(0,axis=0)\n",
    "df.head()"
   ]
  },
  {
   "cell_type": "code",
   "execution_count": 11,
   "metadata": {},
   "outputs": [
    {
     "name": "stdout",
     "output_type": "stream",
     "text": [
      "<class 'pandas.core.frame.DataFrame'>\n",
      "Int64Index: 31 entries, 1 to 31\n",
      "Data columns (total 10 columns):\n",
      "Day                 31 non-null object\n",
      "Date                31 non-null object\n",
      "Rank                31 non-null object\n",
      "Gross               31 non-null object\n",
      "% +/- YD  /  LW*    31 non-null object\n",
      "% +/- YD  /  LW*    31 non-null object\n",
      "Theaters  /  Avg    31 non-null object\n",
      "Theaters  /  Avg    31 non-null object\n",
      "Gross-to-Date       31 non-null object\n",
      "Day #               31 non-null float64\n",
      "dtypes: float64(1), object(9)\n",
      "memory usage: 2.7+ KB\n"
     ]
    }
   ],
   "source": [
    "df.info()"
   ]
  },
  {
   "cell_type": "markdown",
   "metadata": {},
   "source": [
    "## Clean the data for time series format"
   ]
  },
  {
   "cell_type": "code",
   "execution_count": 47,
   "metadata": {},
   "outputs": [
    {
     "data": {
      "text/html": [
       "<div>\n",
       "<style scoped>\n",
       "    .dataframe tbody tr th:only-of-type {\n",
       "        vertical-align: middle;\n",
       "    }\n",
       "\n",
       "    .dataframe tbody tr th {\n",
       "        vertical-align: top;\n",
       "    }\n",
       "\n",
       "    .dataframe thead th {\n",
       "        text-align: right;\n",
       "    }\n",
       "</style>\n",
       "<table border=\"1\" class=\"dataframe\">\n",
       "  <thead>\n",
       "    <tr style=\"text-align: right;\">\n",
       "      <th></th>\n",
       "      <th>Day</th>\n",
       "      <th>Date</th>\n",
       "      <th>Rank</th>\n",
       "      <th>Gross</th>\n",
       "      <th>% +/- YD  /  LW*</th>\n",
       "      <th>% +/- YD  /  LW*</th>\n",
       "      <th>Theaters  /  Avg</th>\n",
       "      <th>Theaters  /  Avg</th>\n",
       "      <th>Gross-to-Date</th>\n",
       "      <th>Day #</th>\n",
       "    </tr>\n",
       "  </thead>\n",
       "  <tbody>\n",
       "    <tr>\n",
       "      <th>1</th>\n",
       "      <td>Fri</td>\n",
       "      <td>2019-04-26</td>\n",
       "      <td>1</td>\n",
       "      <td>157461641</td>\n",
       "      <td>-</td>\n",
       "      <td>-</td>\n",
       "      <td>4662</td>\n",
       "      <td>$33,776</td>\n",
       "      <td>$157,461,641</td>\n",
       "      <td>1.0</td>\n",
       "    </tr>\n",
       "    <tr>\n",
       "      <th>2</th>\n",
       "      <td>Sat</td>\n",
       "      <td>2019-04-27</td>\n",
       "      <td>1</td>\n",
       "      <td>109264122</td>\n",
       "      <td>-30.6%</td>\n",
       "      <td>-</td>\n",
       "      <td>4662</td>\n",
       "      <td>$23,437</td>\n",
       "      <td>$266,725,763</td>\n",
       "      <td>2.0</td>\n",
       "    </tr>\n",
       "    <tr>\n",
       "      <th>3</th>\n",
       "      <td>Sun</td>\n",
       "      <td>2019-04-28</td>\n",
       "      <td>1</td>\n",
       "      <td>90389244</td>\n",
       "      <td>-17.3%</td>\n",
       "      <td>-</td>\n",
       "      <td>4662</td>\n",
       "      <td>$19,389</td>\n",
       "      <td>$357,115,007</td>\n",
       "      <td>3.0</td>\n",
       "    </tr>\n",
       "    <tr>\n",
       "      <th>4</th>\n",
       "      <td>Mon</td>\n",
       "      <td>2019-04-29</td>\n",
       "      <td>1</td>\n",
       "      <td>36874439</td>\n",
       "      <td>-59.2%</td>\n",
       "      <td>-</td>\n",
       "      <td>4662</td>\n",
       "      <td>$7,910</td>\n",
       "      <td>$393,989,446</td>\n",
       "      <td>4.0</td>\n",
       "    </tr>\n",
       "    <tr>\n",
       "      <th>5</th>\n",
       "      <td>Tue</td>\n",
       "      <td>2019-04-30</td>\n",
       "      <td>1</td>\n",
       "      <td>33110349</td>\n",
       "      <td>-10.2%</td>\n",
       "      <td>-</td>\n",
       "      <td>4662</td>\n",
       "      <td>$7,102</td>\n",
       "      <td>$427,099,795</td>\n",
       "      <td>5.0</td>\n",
       "    </tr>\n",
       "  </tbody>\n",
       "</table>\n",
       "</div>"
      ],
      "text/plain": [
       "0  Day       Date Rank      Gross % +/- YD  /  LW* % +/- YD  /  LW*  \\\n",
       "1  Fri 2019-04-26    1  157461641                -                -   \n",
       "2  Sat 2019-04-27    1  109264122           -30.6%                -   \n",
       "3  Sun 2019-04-28    1   90389244           -17.3%                -   \n",
       "4  Mon 2019-04-29    1   36874439           -59.2%                -   \n",
       "5  Tue 2019-04-30    1   33110349           -10.2%                -   \n",
       "\n",
       "0 Theaters  /  Avg Theaters  /  Avg Gross-to-Date  Day #  \n",
       "1             4662          $33,776  $157,461,641    1.0  \n",
       "2             4662          $23,437  $266,725,763    2.0  \n",
       "3             4662          $19,389  $357,115,007    3.0  \n",
       "4             4662           $7,910  $393,989,446    4.0  \n",
       "5             4662           $7,102  $427,099,795    5.0  "
      ]
     },
     "execution_count": 47,
     "metadata": {},
     "output_type": "execute_result"
    }
   ],
   "source": [
    "df['Date'] = pd.to_datetime(df['Date']) #convert date from string to datetime\n",
    "df['Gross'] = df['Gross'].str.replace('$','')\n",
    "df['Gross'] = df['Gross'].str.replace(',','') #remove dollar sign and comma in Gross \n",
    "df['Gross'] = df['Gross'].astype(int) #convert Gross into int\n",
    "df.head()"
   ]
  },
  {
   "cell_type": "code",
   "execution_count": 48,
   "metadata": {},
   "outputs": [
    {
     "data": {
      "text/html": [
       "<div>\n",
       "<style scoped>\n",
       "    .dataframe tbody tr th:only-of-type {\n",
       "        vertical-align: middle;\n",
       "    }\n",
       "\n",
       "    .dataframe tbody tr th {\n",
       "        vertical-align: top;\n",
       "    }\n",
       "\n",
       "    .dataframe thead th {\n",
       "        text-align: right;\n",
       "    }\n",
       "</style>\n",
       "<table border=\"1\" class=\"dataframe\">\n",
       "  <thead>\n",
       "    <tr style=\"text-align: right;\">\n",
       "      <th></th>\n",
       "      <th>Gross</th>\n",
       "    </tr>\n",
       "    <tr>\n",
       "      <th>Date</th>\n",
       "      <th></th>\n",
       "    </tr>\n",
       "  </thead>\n",
       "  <tbody>\n",
       "    <tr>\n",
       "      <th>2019-04-26</th>\n",
       "      <td>157461641</td>\n",
       "    </tr>\n",
       "    <tr>\n",
       "      <th>2019-04-27</th>\n",
       "      <td>109264122</td>\n",
       "    </tr>\n",
       "    <tr>\n",
       "      <th>2019-04-28</th>\n",
       "      <td>90389244</td>\n",
       "    </tr>\n",
       "    <tr>\n",
       "      <th>2019-04-29</th>\n",
       "      <td>36874439</td>\n",
       "    </tr>\n",
       "    <tr>\n",
       "      <th>2019-04-30</th>\n",
       "      <td>33110349</td>\n",
       "    </tr>\n",
       "  </tbody>\n",
       "</table>\n",
       "</div>"
      ],
      "text/plain": [
       "0               Gross\n",
       "Date                 \n",
       "2019-04-26  157461641\n",
       "2019-04-27  109264122\n",
       "2019-04-28   90389244\n",
       "2019-04-29   36874439\n",
       "2019-04-30   33110349"
      ]
     },
     "execution_count": 48,
     "metadata": {},
     "output_type": "execute_result"
    }
   ],
   "source": [
    "ts = df[['Date','Gross']]\n",
    "ts = ts.set_index('Date')\n",
    "ts.head()"
   ]
  },
  {
   "cell_type": "code",
   "execution_count": 49,
   "metadata": {},
   "outputs": [
    {
     "data": {
      "text/plain": [
       "<matplotlib.axes._subplots.AxesSubplot at 0x1c1f2fb860>"
      ]
     },
     "execution_count": 49,
     "metadata": {},
     "output_type": "execute_result"
    },
    {
     "data": {
      "image/png": "[encoded data removed]",
      "text/plain": [
       "<matplotlib.figure.Figure at 0x1c1f2fb978>"
      ]
     },
     "metadata": {},
     "output_type": "display_data"
    }
   ],
   "source": [
    "import seaborn as sns\n",
    "import matplotlib.pyplot as plt\n",
    "ts['Gross'].plot()"
   ]
  },
  {
   "cell_type": "code",
   "execution_count": 15,
   "metadata": {},
   "outputs": [
    {
     "data": {
      "text/plain": [
       "<matplotlib.axes._subplots.AxesSubplot at 0x1c1eb9e550>"
      ]
     },
     "execution_count": 15,
     "metadata": {},
     "output_type": "execute_result"
    },
    {
     "data": {
      "image/png": "[encoded data removed]",
      "text/plain": [
       "<matplotlib.figure.Figure at 0x1c1eba8390>"
      ]
     },
     "metadata": {},
     "output_type": "display_data"
    }
   ],
   "source": [
    "moving_avg = ts['Gross'].rolling(window=7).mean()\n",
    "ts['Gross'].plot()\n",
    "moving_avg.plot(color='r')"
   ]
  },
  {
   "cell_type": "code",
   "execution_count": 16,
   "metadata": {},
   "outputs": [],
   "source": [
    "import statsmodels.api as sm"
   ]
  },
  {
   "cell_type": "code",
   "execution_count": 253,
   "metadata": {},
   "outputs": [
    {
     "data": {
      "text/plain": [
       "<matplotlib.figure.Figure at 0x1c24f39f60>"
      ]
     },
     "metadata": {},
     "output_type": "display_data"
    },
    {
     "data": {
      "image/png": "[encoded data removed]",
      "text/plain": [
       "<matplotlib.figure.Figure at 0x1c24f39ef0>"
      ]
     },
     "metadata": {},
     "output_type": "display_data"
    }
   ],
   "source": [
    "# since the date is linear decreasing, I use additive model\n",
    "decomposition = sm.tsa.seasonal_decompose(ts, model='additive') \n",
    "plt.figure(figsize=(10,10))\n",
    "decomposition.plot()\n",
    "plt.show()"
   ]
  },
  {
   "cell_type": "markdown",
   "metadata": {},
   "source": [
    "# Use ARIMA model to do the analysis\n",
    "ARIMA(p,d,q)<br>\n",
    "p: associated with the auto-regressive aspect of the model<br>\n",
    "d: effects the amount of differencing to apply to a time series<br>\n",
    "q: associated with the moving average part of the model"
   ]
  },
  {
   "cell_type": "code",
   "execution_count": 1,
   "metadata": {},
   "outputs": [],
   "source": [
    "from pyramid.arima import auto_arima"
   ]
  },
  {
   "cell_type": "code",
   "execution_count": 218,
   "metadata": {},
   "outputs": [
    {
     "name": "stdout",
     "output_type": "stream",
     "text": [
      "Fit ARIMA: order=(1, 1, 2) seasonal_order=(0, 1, 1, 7); AIC=nan, BIC=nan, Fit time=nan seconds\n",
      "Fit ARIMA: order=(0, 1, 0) seasonal_order=(0, 1, 0, 7); AIC=830.578, BIC=832.849, Fit time=0.016 seconds\n",
      "Fit ARIMA: order=(1, 1, 0) seasonal_order=(1, 1, 0, 7); AIC=824.287, BIC=828.829, Fit time=0.096 seconds\n",
      "Fit ARIMA: order=(0, 1, 1) seasonal_order=(0, 1, 1, 7); AIC=nan, BIC=nan, Fit time=nan seconds\n",
      "Fit ARIMA: order=(1, 1, 0) seasonal_order=(0, 1, 0, 7); AIC=822.294, BIC=825.700, Fit time=0.051 seconds\n",
      "Fit ARIMA: order=(1, 1, 0) seasonal_order=(0, 1, 1, 7); AIC=nan, BIC=nan, Fit time=nan seconds\n",
      "Fit ARIMA: order=(1, 1, 0) seasonal_order=(1, 1, 1, 7); AIC=824.541, BIC=830.218, Fit time=0.156 seconds\n",
      "Fit ARIMA: order=(2, 1, 0) seasonal_order=(0, 1, 0, 7); AIC=822.988, BIC=827.530, Fit time=0.062 seconds\n",
      "Fit ARIMA: order=(1, 1, 1) seasonal_order=(0, 1, 0, 7); AIC=800.261, BIC=804.803, Fit time=0.107 seconds\n",
      "Fit ARIMA: order=(2, 1, 2) seasonal_order=(0, 1, 0, 7); AIC=nan, BIC=nan, Fit time=nan seconds\n",
      "Fit ARIMA: order=(1, 1, 1) seasonal_order=(1, 1, 0, 7); AIC=800.384, BIC=806.061, Fit time=0.243 seconds\n",
      "Fit ARIMA: order=(1, 1, 1) seasonal_order=(0, 1, 1, 7); AIC=nan, BIC=nan, Fit time=nan seconds\n",
      "Fit ARIMA: order=(1, 1, 1) seasonal_order=(1, 1, 1, 7); AIC=801.311, BIC=808.124, Fit time=0.588 seconds\n",
      "Fit ARIMA: order=(0, 1, 1) seasonal_order=(0, 1, 0, 7); AIC=807.747, BIC=811.154, Fit time=0.041 seconds\n",
      "Fit ARIMA: order=(2, 1, 1) seasonal_order=(0, 1, 0, 7); AIC=801.265, BIC=806.942, Fit time=0.128 seconds\n",
      "Fit ARIMA: order=(1, 1, 2) seasonal_order=(0, 1, 0, 7); AIC=nan, BIC=nan, Fit time=nan seconds\n",
      "Total fit time: 1.507 seconds\n",
      "800.2605840118201\n"
     ]
    }
   ],
   "source": [
    "# stepwise_model = auto_arima(ts, start_p=1, start_q=0,\n",
    "#                            max_p=3, max_q=2, \n",
    "#                            start_P=0, seasonal=True,\n",
    "#                            d=1, max_d=1, trace=True,\n",
    "#                            error_action='ignore',  \n",
    "#                            suppress_warnings=True)\n",
    "\n",
    "stepwise_model = auto_arima(ts, start_p=1, start_q=2,\n",
    "                           max_p=7, max_q=7, m=7,\n",
    "                           start_P=0, seasonal=True,\n",
    "                           d=1, D=1,max_d=2, trace=True, \n",
    "                           error_action='ignore',  \n",
    "                           suppress_warnings=True,\n",
    "                           stepwise=True)\n",
    "\n",
    "# stepwise_model = auto_arima(ts, start_p=1, start_q=0,\n",
    "#                            max_p=3, max_q=2, m=7,\n",
    "#                            start_P=0, seasonal=True,\n",
    "#                            d=1, D=2, trace=True,\n",
    "#                            error_action='ignore',  \n",
    "#                            suppress_warnings=True, \n",
    "#                            stepwise=True)\n",
    "\n",
    "print(stepwise_model.aic())"
   ]
  },
  {
   "cell_type": "code",
   "execution_count": 255,
   "metadata": {},
   "outputs": [
    {
     "data": {
      "text/plain": [
       "ARIMA(callback=None, disp=0, maxiter=50, method=None, order=(1, 1, 1),\n",
       "   out_of_sample_size=0, scoring='mse', scoring_args={},\n",
       "   seasonal_order=(0, 1, 0, 7), solver='lbfgs', start_params=None,\n",
       "   suppress_warnings=True, transparams=True, trend='c')"
      ]
     },
     "execution_count": 255,
     "metadata": {},
     "output_type": "execute_result"
    }
   ],
   "source": [
    "#use first 20 rows for training\n",
    "train_ts = ts.iloc[:20]\n",
    "test_ts = ts.iloc[20:]\n",
    "stepwise_model.fit(train_ts)"
   ]
  },
  {
   "cell_type": "code",
   "execution_count": 256,
   "metadata": {},
   "outputs": [
    {
     "name": "stdout",
     "output_type": "stream",
     "text": [
      "[ 6089525.17852499 18133123.4604844  32871949.62403084 28287528.37382939\n",
      " 16814077.08905293 21246233.75146125 22683285.3143513  28376441.02413691\n",
      " 43811691.32959083 61942169.59825711 60749400.46671113]\n"
     ]
    }
   ],
   "source": [
    "# predict on the last 11 rows\n",
    "pred = stepwise_model.predict(n_periods=11)\n",
    "print(pred)"
   ]
  },
  {
   "cell_type": "code",
   "execution_count": 197,
   "metadata": {},
   "outputs": [
    {
     "name": "stdout",
     "output_type": "stream",
     "text": [
      "2019-05-27 00:00:00\n",
      "2019-06-15 00:00:00\n"
     ]
    }
   ],
   "source": [
    "# examine the start and the end date of the prediction\n",
    "# use ts.index[-1] to make sure the prediction start from the date of the end of ts data\n",
    "print(ts.index[-1] + timedelta(days=1))\n",
    "\n",
    "# use ts.index[-1] + length of prediction to make sure the prediction end date matches the prediction length\n",
    "print(ts.index[-1]+ timedelta(days=len(pred)))\n",
    "\n",
    "# create the list for the prediction dates\n",
    "pred_date = [ts.index[-1] + timedelta(days=x) for x in range(1,len(pred)+1)]\n",
    "pred_date = [d.strftime('%Y-%m-%d') for d in pred_date]"
   ]
  },
  {
   "cell_type": "code",
   "execution_count": 246,
   "metadata": {},
   "outputs": [
    {
     "data": {
      "text/html": [
       "<div>\n",
       "<style scoped>\n",
       "    .dataframe tbody tr th:only-of-type {\n",
       "        vertical-align: middle;\n",
       "    }\n",
       "\n",
       "    .dataframe tbody tr th {\n",
       "        vertical-align: top;\n",
       "    }\n",
       "\n",
       "    .dataframe thead th {\n",
       "        text-align: right;\n",
       "    }\n",
       "</style>\n",
       "<table border=\"1\" class=\"dataframe\">\n",
       "  <thead>\n",
       "    <tr style=\"text-align: right;\">\n",
       "      <th></th>\n",
       "      <th>Predict Gross</th>\n",
       "    </tr>\n",
       "    <tr>\n",
       "      <th>Date</th>\n",
       "      <th></th>\n",
       "    </tr>\n",
       "  </thead>\n",
       "  <tbody>\n",
       "    <tr>\n",
       "      <th>2019-05-16</th>\n",
       "      <td>6.089525e+06</td>\n",
       "    </tr>\n",
       "    <tr>\n",
       "      <th>2019-05-17</th>\n",
       "      <td>1.813312e+07</td>\n",
       "    </tr>\n",
       "    <tr>\n",
       "      <th>2019-05-18</th>\n",
       "      <td>3.287195e+07</td>\n",
       "    </tr>\n",
       "    <tr>\n",
       "      <th>2019-05-19</th>\n",
       "      <td>2.828753e+07</td>\n",
       "    </tr>\n",
       "    <tr>\n",
       "      <th>2019-05-20</th>\n",
       "      <td>1.681408e+07</td>\n",
       "    </tr>\n",
       "    <tr>\n",
       "      <th>2019-05-21</th>\n",
       "      <td>2.124623e+07</td>\n",
       "    </tr>\n",
       "    <tr>\n",
       "      <th>2019-05-22</th>\n",
       "      <td>2.268329e+07</td>\n",
       "    </tr>\n",
       "    <tr>\n",
       "      <th>2019-05-23</th>\n",
       "      <td>2.837644e+07</td>\n",
       "    </tr>\n",
       "    <tr>\n",
       "      <th>2019-05-24</th>\n",
       "      <td>4.381169e+07</td>\n",
       "    </tr>\n",
       "    <tr>\n",
       "      <th>2019-05-25</th>\n",
       "      <td>6.194217e+07</td>\n",
       "    </tr>\n",
       "    <tr>\n",
       "      <th>2019-05-26</th>\n",
       "      <td>6.074940e+07</td>\n",
       "    </tr>\n",
       "  </tbody>\n",
       "</table>\n",
       "</div>"
      ],
      "text/plain": [
       "            Predict Gross\n",
       "Date                     \n",
       "2019-05-16   6.089525e+06\n",
       "2019-05-17   1.813312e+07\n",
       "2019-05-18   3.287195e+07\n",
       "2019-05-19   2.828753e+07\n",
       "2019-05-20   1.681408e+07\n",
       "2019-05-21   2.124623e+07\n",
       "2019-05-22   2.268329e+07\n",
       "2019-05-23   2.837644e+07\n",
       "2019-05-24   4.381169e+07\n",
       "2019-05-25   6.194217e+07\n",
       "2019-05-26   6.074940e+07"
      ]
     },
     "execution_count": 246,
     "metadata": {},
     "output_type": "execute_result"
    }
   ],
   "source": [
    "future_prediction = pd.DataFrame(pred, index=ts.index[20:],columns=['Predict Gross'])\n",
    "future_prediction"
   ]
  },
  {
   "cell_type": "code",
   "execution_count": 247,
   "metadata": {},
   "outputs": [
    {
     "data": {
      "text/plain": [
       "<matplotlib.axes._subplots.AxesSubplot at 0x1c2502fac8>"
      ]
     },
     "execution_count": 247,
     "metadata": {},
     "output_type": "execute_result"
    },
    {
     "data": {
      "text/plain": [
       "<matplotlib.figure.Figure at 0x1c25589668>"
      ]
     },
     "metadata": {},
     "output_type": "display_data"
    },
    {
     "data": {
      "image/png": "[encoded data removed]",
      "text/plain": [
       "<matplotlib.figure.Figure at 0x1c2569a978>"
      ]
     },
     "metadata": {},
     "output_type": "display_data"
    }
   ],
   "source": [
    "plt.figure(figsize=(10,6))\n",
    "future_prediction.plot()"
   ]
  },
  {
   "cell_type": "code",
   "execution_count": 252,
   "metadata": {},
   "outputs": [
    {
     "data": {
      "text/plain": [
       "<matplotlib.axes._subplots.AxesSubplot at 0x1c247eafd0>"
      ]
     },
     "execution_count": 252,
     "metadata": {},
     "output_type": "execute_result"
    },
    {
     "data": {
      "text/plain": [
       "<matplotlib.figure.Figure at 0x1c25370160>"
      ]
     },
     "metadata": {},
     "output_type": "display_data"
    },
    {
     "data": {
      "image/png": "[encoded data removed]",
      "text/plain": [
       "<matplotlib.figure.Figure at 0x1c247ea400>"
      ]
     },
     "metadata": {},
     "output_type": "display_data"
    }
   ],
   "source": [
    "plt.figure(figsize=(10,6))\n",
    "\n",
    "pd.concat([ts,future_prediction],axis=1).plot()"
   ]
  },
  {
   "cell_type": "markdown",
   "metadata": {},
   "source": [
    "# The other approach\n",
    "set parameter directly"
   ]
  },
  {
   "cell_type": "code",
   "execution_count": 279,
   "metadata": {},
   "outputs": [
    {
     "name": "stdout",
     "output_type": "stream",
     "text": [
      "==============================================================================\n",
      "                 coef    std err          z      P>|z|      [0.025      0.975]\n",
      "------------------------------------------------------------------------------\n",
      "ar.L1          0.2296      0.242      0.947      0.344      -0.246       0.705\n",
      "ma.L1         -0.9275      0.349     -2.658      0.008      -1.611      -0.244\n",
      "ar.S.L1        0.2296      0.242      0.947      0.344      -0.246       0.705\n",
      "ma.S.L1       -0.9275      0.349     -2.658      0.008      -1.611      -0.244\n",
      "sigma2      4.272e+14   1.15e-15   3.71e+29      0.000    4.27e+14    4.27e+14\n",
      "==============================================================================\n"
     ]
    },
    {
     "name": "stderr",
     "output_type": "stream",
     "text": [
      "/Users/jaehuang/anaconda3/lib/python3.6/site-packages/statsmodels/tsa/base/tsa_model.py:171: ValueWarning: No frequency information was provided, so inferred frequency D will be used.\n",
      "  % freq, ValueWarning)\n"
     ]
    }
   ],
   "source": [
    "model = sm.tsa.statespace.SARIMAX(train_ts,\n",
    "                                order=(1, 2, 1),\n",
    "                                seasonal_order=(1, 1, 1, 1),\n",
    "                                enforce_stationarity=True,\n",
    "                                enforce_invertibility=False)\n",
    "results = model.fit()\n",
    "print(results.summary().tables[1])"
   ]
  },
  {
   "cell_type": "code",
   "execution_count": 274,
   "metadata": {},
   "outputs": [
    {
     "data": {
      "image/png": "[encoded data removed]",
      "text/plain": [
       "<matplotlib.figure.Figure at 0x1c247fd940>"
      ]
     },
     "metadata": {},
     "output_type": "display_data"
    }
   ],
   "source": [
    "results.plot_diagnostics(figsize=(16, 8))\n",
    "plt.show()"
   ]
  },
  {
   "cell_type": "code",
   "execution_count": 275,
   "metadata": {},
   "outputs": [
    {
     "data": {
      "text/html": [
       "<div>\n",
       "<style scoped>\n",
       "    .dataframe tbody tr th:only-of-type {\n",
       "        vertical-align: middle;\n",
       "    }\n",
       "\n",
       "    .dataframe tbody tr th {\n",
       "        vertical-align: top;\n",
       "    }\n",
       "\n",
       "    .dataframe thead th {\n",
       "        text-align: right;\n",
       "    }\n",
       "</style>\n",
       "<table border=\"1\" class=\"dataframe\">\n",
       "  <thead>\n",
       "    <tr style=\"text-align: right;\">\n",
       "      <th></th>\n",
       "      <th>lower Gross</th>\n",
       "      <th>upper Gross</th>\n",
       "    </tr>\n",
       "  </thead>\n",
       "  <tbody>\n",
       "    <tr>\n",
       "      <th>2019-05-16</th>\n",
       "      <td>-4.316353e+07</td>\n",
       "      <td>4.011650e+07</td>\n",
       "    </tr>\n",
       "    <tr>\n",
       "      <th>2019-05-17</th>\n",
       "      <td>-8.912999e+07</td>\n",
       "      <td>7.188353e+07</td>\n",
       "    </tr>\n",
       "    <tr>\n",
       "      <th>2019-05-18</th>\n",
       "      <td>-1.357873e+08</td>\n",
       "      <td>1.022437e+08</td>\n",
       "    </tr>\n",
       "    <tr>\n",
       "      <th>2019-05-19</th>\n",
       "      <td>-1.834722e+08</td>\n",
       "      <td>1.320470e+08</td>\n",
       "    </tr>\n",
       "    <tr>\n",
       "      <th>2019-05-20</th>\n",
       "      <td>-2.329118e+08</td>\n",
       "      <td>1.621787e+08</td>\n",
       "    </tr>\n",
       "    <tr>\n",
       "      <th>2019-05-21</th>\n",
       "      <td>-2.846620e+08</td>\n",
       "      <td>1.932399e+08</td>\n",
       "    </tr>\n",
       "    <tr>\n",
       "      <th>2019-05-22</th>\n",
       "      <td>-3.390866e+08</td>\n",
       "      <td>2.256070e+08</td>\n",
       "    </tr>\n",
       "    <tr>\n",
       "      <th>2019-05-23</th>\n",
       "      <td>-3.964195e+08</td>\n",
       "      <td>2.595173e+08</td>\n",
       "    </tr>\n",
       "    <tr>\n",
       "      <th>2019-05-24</th>\n",
       "      <td>-4.568152e+08</td>\n",
       "      <td>2.951261e+08</td>\n",
       "    </tr>\n",
       "    <tr>\n",
       "      <th>2019-05-25</th>\n",
       "      <td>-5.203799e+08</td>\n",
       "      <td>3.325399e+08</td>\n",
       "    </tr>\n",
       "    <tr>\n",
       "      <th>2019-05-26</th>\n",
       "      <td>-5.871908e+08</td>\n",
       "      <td>3.718358e+08</td>\n",
       "    </tr>\n",
       "  </tbody>\n",
       "</table>\n",
       "</div>"
      ],
      "text/plain": [
       "             lower Gross   upper Gross\n",
       "2019-05-16 -4.316353e+07  4.011650e+07\n",
       "2019-05-17 -8.912999e+07  7.188353e+07\n",
       "2019-05-18 -1.357873e+08  1.022437e+08\n",
       "2019-05-19 -1.834722e+08  1.320470e+08\n",
       "2019-05-20 -2.329118e+08  1.621787e+08\n",
       "2019-05-21 -2.846620e+08  1.932399e+08\n",
       "2019-05-22 -3.390866e+08  2.256070e+08\n",
       "2019-05-23 -3.964195e+08  2.595173e+08\n",
       "2019-05-24 -4.568152e+08  2.951261e+08\n",
       "2019-05-25 -5.203799e+08  3.325399e+08\n",
       "2019-05-26 -5.871908e+08  3.718358e+08"
      ]
     },
     "execution_count": 275,
     "metadata": {},
     "output_type": "execute_result"
    }
   ],
   "source": [
    "start_d = ts.index[-1] + timedelta(days=1)\n",
    "end_d = ts.index[-1]+ timedelta(days=20)\n",
    "pred = results.get_prediction(start=test_ts.index[0], end=test_ts.index[-1], dynamic=False)\n",
    "pred.conf_int()"
   ]
  },
  {
   "cell_type": "code",
   "execution_count": 276,
   "metadata": {},
   "outputs": [
    {
     "data": {
      "text/plain": [
       "<matplotlib.legend.Legend at 0x1c26251198>"
      ]
     },
     "execution_count": 276,
     "metadata": {},
     "output_type": "execute_result"
    },
    {
     "data": {
      "text/plain": [
       "<matplotlib.figure.Figure at 0x1c25701390>"
      ]
     },
     "metadata": {},
     "output_type": "display_data"
    },
    {
     "data": {
      "image/png": "[encoded data removed]",
      "text/plain": [
       "<matplotlib.figure.Figure at 0x1c20dfb710>"
      ]
     },
     "metadata": {},
     "output_type": "display_data"
    }
   ],
   "source": [
    "pred_ci = pred.conf_int()\n",
    "plt.figure(figsize=(14,7))\n",
    "ax = ts.plot(label='observed')\n",
    "pred.predicted_mean.plot(ax=ax, label='One-step ahead Forecast', alpha=.7)\n",
    "\n",
    "ax.fill_between(pred_ci.index,\n",
    "                pred_ci.iloc[:, 0],\n",
    "                pred_ci.iloc[:, 1], color='k', alpha=.2)\n",
    "ax.set_xlabel('Date')\n",
    "ax.set_ylabel('Gross')\n",
    "plt.legend()"
   ]
  },
  {
   "cell_type": "markdown",
   "metadata": {},
   "source": [
    "# Exponential smoothing\n",
    "https://medium.com/datadriveninvestor/how-to-build-exponential-smoothing-models-using-python-simple-exponential-smoothing-holt-and-da371189e1a1"
   ]
  },
  {
   "cell_type": "code",
   "execution_count": 288,
   "metadata": {},
   "outputs": [],
   "source": [
    "from statsmodels.tsa.holtwinters import SimpleExpSmoothing, Holt, ExponentialSmoothing"
   ]
  },
  {
   "cell_type": "code",
   "execution_count": 286,
   "metadata": {},
   "outputs": [
    {
     "name": "stderr",
     "output_type": "stream",
     "text": [
      "/Users/jaehuang/anaconda3/lib/python3.6/site-packages/statsmodels/tsa/base/tsa_model.py:171: ValueWarning: No frequency information was provided, so inferred frequency D will be used.\n",
      "  % freq, ValueWarning)\n"
     ]
    },
    {
     "data": {
      "text/plain": [
       "<matplotlib.axes._subplots.AxesSubplot at 0x1c284e22b0>"
      ]
     },
     "execution_count": 286,
     "metadata": {},
     "output_type": "execute_result"
    },
    {
     "data": {
      "image/png": "[encoded data removed]",
      "text/plain": [
       "<matplotlib.figure.Figure at 0x1c284cb390>"
      ]
     },
     "metadata": {},
     "output_type": "display_data"
    }
   ],
   "source": [
    "\n",
    "fit1 = SimpleExpSmoothing(train_ts).fit(smoothing_level=0.2,optimized=False)\n",
    "fcast1 = fit1.forecast(11)\n",
    "fcast1.plot()"
   ]
  },
  {
   "cell_type": "code",
   "execution_count": 313,
   "metadata": {},
   "outputs": [
    {
     "name": "stderr",
     "output_type": "stream",
     "text": [
      "/Users/jaehuang/anaconda3/lib/python3.6/site-packages/statsmodels/tsa/base/tsa_model.py:171: ValueWarning: No frequency information was provided, so inferred frequency D will be used.\n",
      "  % freq, ValueWarning)\n",
      "/Users/jaehuang/anaconda3/lib/python3.6/site-packages/scipy/stats/morestats.py:901: RuntimeWarning: divide by zero encountered in log\n",
      "  llf -= N / 2.0 * np.log(np.sum((y - y_mean)**2. / N, axis=0))\n",
      "/Users/jaehuang/anaconda3/lib/python3.6/site-packages/scipy/optimize/optimize.py:2308: RuntimeWarning: invalid value encountered in double_scalars\n",
      "  w = xb - ((xb - xc) * tmp2 - (xb - xa) * tmp1) / denom\n",
      "/Users/jaehuang/anaconda3/lib/python3.6/site-packages/scipy/optimize/optimize.py:1926: RuntimeWarning: invalid value encountered in double_scalars\n",
      "  tmp1 = (x - w) * (fx - fv)\n",
      "/Users/jaehuang/anaconda3/lib/python3.6/site-packages/scipy/optimize/optimize.py:1927: RuntimeWarning: invalid value encountered in double_scalars\n",
      "  tmp2 = (x - v) * (fx - fw)\n",
      "/Users/jaehuang/anaconda3/lib/python3.6/site-packages/scipy/optimize/optimize.py:1928: RuntimeWarning: invalid value encountered in double_scalars\n",
      "  p = (x - v) * tmp2 - (x - w) * tmp1\n",
      "/Users/jaehuang/anaconda3/lib/python3.6/site-packages/scipy/optimize/optimize.py:1929: RuntimeWarning: invalid value encountered in double_scalars\n",
      "  tmp2 = 2.0 * (tmp2 - tmp1)\n"
     ]
    },
    {
     "data": {
      "text/plain": [
       "<matplotlib.legend.Legend at 0x1c2a026208>"
      ]
     },
     "execution_count": 313,
     "metadata": {},
     "output_type": "execute_result"
    },
    {
     "data": {
      "text/plain": [
       "<matplotlib.figure.Figure at 0x1c2a0d4780>"
      ]
     },
     "metadata": {},
     "output_type": "display_data"
    },
    {
     "data": {
      "image/png": "[encoded data removed]",
      "text/plain": [
       "<matplotlib.figure.Figure at 0x1c29964f28>"
      ]
     },
     "metadata": {},
     "output_type": "display_data"
    }
   ],
   "source": [
    "fit1 = ExponentialSmoothing(train_ts, seasonal_periods=7, \n",
    "                            trend='add', seasonal='add').fit(use_boxcox=True)\n",
    "plt.figure(figsize=(14,7))\n",
    "ts.plot(label='Observed')\n",
    "fit1.forecast(11).plot(label='Predicted')\n",
    "\n",
    "plt.legend()"
   ]
  },
  {
   "cell_type": "code",
   "execution_count": 308,
   "metadata": {},
   "outputs": [
    {
     "data": {
      "text/plain": [
       "array([49.32183368, 49.32183368, 49.32183368, 49.32183368, 49.32183368,\n",
       "       49.32183368, 49.32183368, 49.32183368, 49.32183368, 49.32183368,\n",
       "       49.32183368, 49.32183368, 49.32183368, 49.32183368, 49.32183368,\n",
       "       49.32183368, 49.32183368, 49.32183368, 49.32183368, 49.32183368,\n",
       "       49.32183368])"
      ]
     },
     "execution_count": 308,
     "metadata": {},
     "output_type": "execute_result"
    }
   ],
   "source": [
    "fit1.fittedfcast"
   ]
  },
  {
   "cell_type": "code",
   "execution_count": 309,
   "metadata": {},
   "outputs": [
    {
     "data": {
      "text/plain": [
       "Date\n",
       "2019-04-26    49.321834\n",
       "2019-04-27    49.321834\n",
       "2019-04-28    49.321834\n",
       "2019-04-29    49.321834\n",
       "2019-04-30    49.321834\n",
       "2019-05-01    49.321834\n",
       "2019-05-02    49.321834\n",
       "2019-05-03    49.321834\n",
       "2019-05-04    49.321834\n",
       "2019-05-05    49.321834\n",
       "2019-05-06    49.321834\n",
       "2019-05-07    49.321834\n",
       "2019-05-08    49.321834\n",
       "2019-05-09    49.321834\n",
       "2019-05-10    49.321834\n",
       "2019-05-11    49.321834\n",
       "2019-05-12    49.321834\n",
       "2019-05-13    49.321834\n",
       "2019-05-14    49.321834\n",
       "2019-05-15    49.321834\n",
       "dtype: float64"
      ]
     },
     "execution_count": 309,
     "metadata": {},
     "output_type": "execute_result"
    }
   ],
   "source": [
    "fit1.fittedvalues"
   ]
  },
  {
   "cell_type": "code",
   "execution_count": null,
   "metadata": {},
   "outputs": [],
   "source": []
  }
 ],
 "metadata": {
  "kernelspec": {
   "display_name": "Python 3",
   "language": "python",
   "name": "python3"
  },
  "language_info": {
   "codemirror_mode": {
    "name": "ipython",
    "version": 3
   },
   "file_extension": ".py",
   "mimetype": "text/x-python",
   "name": "python",
   "nbconvert_exporter": "python",
   "pygments_lexer": "ipython3",
   "version": "3.6.4"
  }
 },
 "nbformat": 4,
 "nbformat_minor": 2
}
